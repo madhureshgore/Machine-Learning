{
 "cells": [
  {
   "cell_type": "markdown",
   "metadata": {},
   "source": [
    "# Programming Assignment 1\n",
    "* CSCI-5930 ML Fall 2023  (Be sure to discard which section you are not enrolled)\n",
    "* Author: Ashis Kumer Biswas (Replace my name with yours)"
   ]
  },
  {
   "cell_type": "markdown",
   "metadata": {},
   "source": [
    "### Let's load the given dataset"
   ]
  },
  {
   "cell_type": "code",
   "execution_count": 312,
   "metadata": {},
   "outputs": [],
   "source": [
    "import pandas as pd\n",
    "# First load the dataset into pandas dataframe\n",
    "full_dataset = pd.read_csv('dataset/baby-weights-dataset.csv',delimiter=',')\n",
    "judge_dataset = pd.read_csv('dataset/judge-without-labels.csv',delimiter=',')"
   ]
  },
  {
   "cell_type": "markdown",
   "metadata": {},
   "source": [
    "## Task 1 : (10 points)\n",
    "* Summarize the `baby-weights-dataset.csv` dataset in the following way:\n",
    "```\n",
    "total number of rows = a\n",
    "total number of columns = b\n",
    "number of columns having non-numeric values = c\n",
    "columns with missing values = [ (d1, e1)  (d2, e2), ... ]\n",
    "Father's education summary =  f +/- g \n",
    "```\n",
    "  \n",
    "where, \n",
    "* `a` is total number of rows in the dataset.\n",
    "* `b` is total number of columns in the dataset.\n",
    "* `c` is number of columns having non-numeric values.\n",
    "* $(d_i, e_i)$ (i.e., a pair/tuple entry) represents column name ($d_i$) and number of missing values present in that column ($e_i$). If number of missing values in a column is zero (0), you do not need to list it. Please sort the tuple entries in descending order of $e_i$ values.\n",
    "* `f` and `g` are average and standard deviation of father's education years among the data samples respectively. Please print the way it is shown above. Also, print the percentages in 2 decimal places after the decimal point.\n"
   ]
  },
  {
   "cell_type": "code",
   "execution_count": 313,
   "metadata": {},
   "outputs": [
    {
     "name": "stdout",
     "output_type": "stream",
     "text": [
      "Total number of rows in the Dataset:  101400\n",
      "Total number of columns in the Dataset:  37\n",
      "Number of columns having non-numeric values:  2\n",
      "Columns with missing values:  [('GAINED', 1), ('FEDUC', 1), ('WEEKS', 1), ('CIGNUM', 1), ('HYDRAM', 1)]\n",
      "Father's education summary = 12.93 +/- 2.93\n"
     ]
    }
   ],
   "source": [
    "#TODO: Your code goes here\n",
    "\n",
    "a = full_dataset.shape[0]\n",
    "b = full_dataset.shape[1] \n",
    "c = full_dataset.select_dtypes(exclude=['number']).shape[1]\n",
    "missing_data = full_dataset.isnull().sum()\n",
    "missing_data_desc=missing_data[missing_data>0].sort_values(ascending=False)\n",
    "DE_list=list(zip(missing_data_desc.index, missing_data_desc.values))\n",
    "f=full_dataset['FEDUC'].mean()\n",
    "g=full_dataset[\"FEDUC\"].std()\n",
    "print(\"Total number of rows in the Dataset: \", a)\n",
    "print(\"Total number of columns in the Dataset: \", b)\n",
    "print(\"Number of columns having non-numeric values: \",c)\n",
    "print(\"Columns with missing values: \", DE_list)\n",
    "print(f\"Father's education summary = {f:.2f} +/- {g:.2f}\")"
   ]
  },
  {
   "cell_type": "markdown",
   "metadata": {},
   "source": [
    "## TASK 2: \n",
    "Separate the full_dataset into two parts: X and y, where X denotes the input matrix containing only the input (i.e., independent explanatory) variables, and y denotes the target variable containing only the target values for exactly the same number of samples in the given full_dataset. "
   ]
  },
  {
   "cell_type": "code",
   "execution_count": 314,
   "metadata": {},
   "outputs": [],
   "source": [
    "#@TODO: Your code goes here\n",
    "#for x drop column bweight, and y as target variable\n",
    "X = full_dataset.drop('BWEIGHT', axis=1)\n",
    "y = full_dataset['BWEIGHT']\n",
    "\n"
   ]
  },
  {
   "cell_type": "markdown",
   "metadata": {},
   "source": [
    "## TASK 3:\n",
    "* Given X representing the input matrix from the full_dataset, y being the target vector (the rightmost column of the full_dataset), obtained from Task 2: \n",
    "* randomly split the (X,y) dataset into 75% for training and 25% for testing using the library function from the library [sklearn.model_selection](https://scikit-learn.org/stable/modules/generated/sklearn.model_selection.train_test_split.html) . Please pass to the train_test_split function an additional argument random_state=12346.\n",
    "* Store the 4 splits as X_train, X_test, y_train, y_test respectively.\n",
    "* Save the ID column for X_train and X_test into ID_train and ID_test as list variable.\n",
    "* Now, drop the ID columns from both X_train and X_test"
   ]
  },
  {
   "cell_type": "code",
   "execution_count": 315,
   "metadata": {
    "scrolled": true
   },
   "outputs": [],
   "source": [
    "#@TODO: Your code goes here\n",
    "from sklearn.model_selection import train_test_split\n",
    "X_train, X_test, y_train, y_test = train_test_split(X, y, test_size= 0.25, random_state=123456)\n",
    "#saving ID column as list\n",
    "ID_train=X_train['ID'].tolist()\n",
    "ID_test = X_test['ID'].tolist()\n",
    "#drop ID columns\n",
    "X_train=X_train.drop('ID',axis=1)\n",
    "X_test = X_test.drop('ID', axis =1)\n",
    "\n"
   ]
  },
  {
   "cell_type": "markdown",
   "metadata": {},
   "source": [
    "## TASK 4: \n",
    "Given the training dataset (X_train, y_train), save as X_train_ohe after replacing all the non-numeric variables (i.e., categorical variables) with numeric encoding. Please consider using the \"One-hot encoding\" scheme i.e., introducing dummy variables. A brief description of the scheme can be found in the [DUMMY-variables.note.txt](DUMMY-variables.note.txt) file\n",
    "* Use the same encoder to perform onehotencoding on the X_test dataset and save the result as X_test_ohe.\n",
    "* Print the column names of X_test_ohe."
   ]
  },
  {
   "cell_type": "code",
   "execution_count": 316,
   "metadata": {
    "scrolled": true
   },
   "outputs": [
    {
     "name": "stdout",
     "output_type": "stream",
     "text": [
      "Index(['SEX', 'MARITAL', 'FAGE', 'GAINED', 'VISITS', 'MAGE', 'FEDUC', 'MEDUC',\n",
      "       'TOTALP', 'BDEAD', 'TERMS', 'LOUTCOME', 'WEEKS', 'RACEMOM', 'RACEDAD',\n",
      "       'CIGNUM', 'DRINKNUM', 'ANEMIA', 'CARDIAC', 'ACLUNG', 'DIABETES',\n",
      "       'HERPES', 'HYDRAM', 'HEMOGLOB', 'HYPERCH', 'HYPERPR', 'ECLAMP',\n",
      "       'CERVIX', 'PINFANT', 'PRETERM', 'RENAL', 'RHSEN', 'UTERINE',\n",
      "       'HISPMOM_C', 'HISPMOM_M', 'HISPMOM_N', 'HISPMOM_O', 'HISPMOM_P',\n",
      "       'HISPMOM_S', 'HISPMOM_U', 'HISPDAD_C', 'HISPDAD_M', 'HISPDAD_N',\n",
      "       'HISPDAD_O', 'HISPDAD_P', 'HISPDAD_S', 'HISPDAD_U'],\n",
      "      dtype='object')\n"
     ]
    },
    {
     "name": "stderr",
     "output_type": "stream",
     "text": [
      "C:\\Users\\Madhuresh\\AppData\\Roaming\\Python\\Python39\\site-packages\\sklearn\\preprocessing\\_encoders.py:972: FutureWarning: `sparse` was renamed to `sparse_output` in version 1.2 and will be removed in 1.4. `sparse_output` is ignored unless you leave `sparse` to its default value.\n",
      "  warnings.warn(\n"
     ]
    }
   ],
   "source": [
    "#@TODO: Your code goes here\n",
    "from sklearn.preprocessing import OneHotEncoder\n",
    "one_hot_encoder = OneHotEncoder(sparse=False, handle_unknown='ignore')\n",
    "one_hot_encoder.fit(X_train[X_train.columns[X_train.dtypes == 'object']])\n",
    "\n",
    "X_train_ohe = pd.concat([X_train.select_dtypes(exclude=['object']), pd.DataFrame(one_hot_encoder.transform(X_train[X_train.columns[X_train.dtypes == 'object']]),\n",
    "                                      columns=one_hot_encoder.get_feature_names_out(), index=X_train.index)], axis=1)\n",
    "\n",
    "X_test_ohe = pd.concat([X_test.select_dtypes(exclude=['object']), pd.DataFrame(one_hot_encoder.transform(X_test[X_test.columns[X_test.dtypes == 'object']]),\n",
    "                                     columns=one_hot_encoder.get_feature_names_out(), index=X_test.index)], axis=1)\n",
    "\n",
    "print(X_test_ohe.columns)\n",
    "\n",
    "\n",
    "\n"
   ]
  },
  {
   "cell_type": "markdown",
   "metadata": {},
   "source": [
    "## TASK 5: \n",
    "* Given the X_train_ohe (Onehot encoded Pandas Dataframe from Task 4), check if there are missing values, and if yes, count how many, and impute the missing values with corresponding mean values. \n",
    "* Finally, print the counting result as a Pandas dataframe named \"missing_counts\" having 2 columns {variable_name,num_of_missing_values).  Please make sure that the result lists all the input variables in the given dataset. \n",
    "* Now, impute the missing values by mean of the respective variable and save the revised dataframe as X_train_ohe_imputed."
   ]
  },
  {
   "cell_type": "code",
   "execution_count": 317,
   "metadata": {},
   "outputs": [
    {
     "name": "stdout",
     "output_type": "stream",
     "text": [
      "   variable_name  num_of_missing_values\n",
      "0            SEX                      0\n",
      "1        MARITAL                      0\n",
      "2           FAGE                      0\n",
      "3         GAINED                      0\n",
      "4         VISITS                      0\n",
      "5           MAGE                      0\n",
      "6          FEDUC                      1\n",
      "7          MEDUC                      0\n",
      "8         TOTALP                      0\n",
      "9          BDEAD                      0\n",
      "10         TERMS                      0\n",
      "11      LOUTCOME                      0\n",
      "12         WEEKS                      1\n",
      "13       RACEMOM                      0\n",
      "14       RACEDAD                      0\n",
      "15        CIGNUM                      1\n",
      "16      DRINKNUM                      0\n",
      "17        ANEMIA                      0\n",
      "18       CARDIAC                      0\n",
      "19        ACLUNG                      0\n",
      "20      DIABETES                      0\n",
      "21        HERPES                      0\n",
      "22        HYDRAM                      1\n",
      "23      HEMOGLOB                      0\n",
      "24       HYPERCH                      0\n",
      "25       HYPERPR                      0\n",
      "26        ECLAMP                      0\n",
      "27        CERVIX                      0\n",
      "28       PINFANT                      0\n",
      "29       PRETERM                      0\n",
      "30         RENAL                      0\n",
      "31         RHSEN                      0\n",
      "32       UTERINE                      0\n",
      "33     HISPMOM_C                      0\n",
      "34     HISPMOM_M                      0\n",
      "35     HISPMOM_N                      0\n",
      "36     HISPMOM_O                      0\n",
      "37     HISPMOM_P                      0\n",
      "38     HISPMOM_S                      0\n",
      "39     HISPMOM_U                      0\n",
      "40     HISPDAD_C                      0\n",
      "41     HISPDAD_M                      0\n",
      "42     HISPDAD_N                      0\n",
      "43     HISPDAD_O                      0\n",
      "44     HISPDAD_P                      0\n",
      "45     HISPDAD_S                      0\n",
      "46     HISPDAD_U                      0\n"
     ]
    }
   ],
   "source": [
    "#@TODO: Your code goes here\n",
    "missing_counts=X_train_ohe.isnull().sum().reset_index().rename(columns={'index':'variable_name',0:'num_of_missing_values'})\n",
    "print(missing_counts)\n",
    "X_train_ohe_imputed=X_train_ohe.fillna(X_train_ohe.mean())\n",
    "\n"
   ]
  },
  {
   "cell_type": "markdown",
   "metadata": {},
   "source": [
    "## TASK 6: \n",
    "* Given a X_train_ohe_imputed (Pandas dataframe from Task 5) where all the categorical variables are already replaced with numeric values, print a list of top 20 highly correlated variables with respect to the target variable, and save the result as a Pandas dataframe named top20_df with 2 columns {variable,corr_score}. \n",
    "* Here, the corr_score between a variable x and the target variable y needs to be computed using the Pearson Correlation Coefficient (PCC). Please note, PCC ranges between -1 to +1. PCC score 0 means no correlation, while value towards +1 and -1 represent positive and negative correlations respectively. For instance, PCC=0.8 and PCC=-0.8 tell similar strength positive and negative correlations between the two subject variables.\n",
    "* Please do not include BWEIGHT in the top20_df list of top 20 correlated variable list."
   ]
  },
  {
   "cell_type": "code",
   "execution_count": 318,
   "metadata": {},
   "outputs": [
    {
     "name": "stdout",
     "output_type": "stream",
     "text": [
      "   variable  corr_score\n",
      "0     WEEKS    0.559681\n",
      "1    GAINED    0.177147\n",
      "2    VISITS    0.128441\n",
      "3   HYPERPR    0.111371\n",
      "4   MARITAL    0.109350\n",
      "5    CIGNUM    0.094383\n",
      "6       SEX    0.092845\n",
      "7   RACEDAD    0.084606\n",
      "8   RACEMOM    0.078599\n",
      "9   PRETERM    0.071919\n",
      "10     MAGE    0.070276\n",
      "11   ECLAMP    0.066752\n",
      "12  PINFANT    0.066313\n",
      "13   CERVIX    0.064030\n",
      "14    MEDUC    0.056843\n",
      "15    FEDUC    0.054124\n",
      "16     FAGE    0.052705\n",
      "17   HYDRAM    0.051061\n",
      "18  HYPERCH    0.045215\n",
      "19  UTERINE    0.040678\n"
     ]
    }
   ],
   "source": [
    "#@TODO:Your code goes here\n",
    "#top 20 highly correlated variables\n",
    "correlations = X_train_ohe_imputed.corrwith(y_train).abs().sort_values(ascending=False)\n",
    "top20_df = correlations.head(20).rename_axis('variable').reset_index(name='corr_score')\n",
    "print(top20_df)\n",
    "\n",
    "\n"
   ]
  },
  {
   "cell_type": "markdown",
   "metadata": {},
   "source": [
    "## TASK 7: \n",
    "Given the X_train_ohe_imputed (as Pandas dataframe from task 5) and and top20_df (as Pandas Dataframe from Task 6) having 2 columns {variable_name,corr_score} similar to the one you computed in Task 6:\n",
    "* Please save as X_train_t20 keeping only the columns listed in the top20_df dataframe.\n",
    "* Repeat the process for X_test_ohe (obtained from task 4), and save it as X_test_t20."
   ]
  },
  {
   "cell_type": "code",
   "execution_count": 319,
   "metadata": {},
   "outputs": [],
   "source": [
    "#@TODO: Your code goes here\n",
    "#saving top 20 columns from dataframe\n",
    "X_train_t20=X_train_ohe_imputed[top20_df['variable']]\n",
    "X_test_t20=X_test_ohe[top20_df['variable']]\n"
   ]
  },
  {
   "cell_type": "markdown",
   "metadata": {},
   "source": [
    "## TASK 8: \n",
    "* Apply min-max scaling on the training dataset (X_train_t20 obtained from Task 7). Save the result as X_train_scaled_mm.\n",
    "* Then scale the test dataset (X_test_t20 obtained from Task 7) based on the metrics you obtain when you scale the training dataset. Save the result as X_test_scaled_mm.\n",
    "* PLEASE DO NOT SCALE y_train and y_test.\n"
   ]
  },
  {
   "cell_type": "code",
   "execution_count": 320,
   "metadata": {},
   "outputs": [],
   "source": [
    "#@TODO: Your code goes here\n",
    "from sklearn.preprocessing import MinMaxScaler\n",
    "scaler=MinMaxScaler()\n",
    "X_train_scaled_mm=scaler.fit_transform(X_train_t20)\n",
    "X_test_scaled_mm=scaler.transform(X_test_t20)\n",
    "\n"
   ]
  },
  {
   "cell_type": "markdown",
   "metadata": {},
   "source": [
    "## TASK 9: \n",
    "* Apply standardization (i.e., normalization) scaling on the training dataset (X_train_t20 obtained from Task 7). Save the result as X_train_scaled_std.\n",
    "* Then scale the test dataset (X_test_t20 obtained from Task 7) based on the metrics you obtain when you scale the training dataset. Save the result as X_test_scaled_std.\n",
    "* PLEASE DO NOT SCALE y_train and y_test.\n",
    "\n",
    "\n"
   ]
  },
  {
   "cell_type": "code",
   "execution_count": 321,
   "metadata": {},
   "outputs": [],
   "source": [
    "#@TODO: Your code goes here\n",
    "from sklearn.preprocessing import StandardScaler\n",
    "scaler=StandardScaler()\n",
    "X_train_scaled_std=scaler.fit_transform(X_train_t20)\n",
    "X_test_scaled_std=scaler.transform(X_test_t20)\n"
   ]
  },
  {
   "cell_type": "markdown",
   "metadata": {},
   "source": [
    "## TASK 10: \n",
    "Given the (X_train_scaled_std, y_train) pairs denoting input matrix and output vector respectively: complete the three function definitions and demonstrate the functionalities of each by calling them with appropriate arguments as instructed below:\n",
    "* **linear_regression_closed_form_training** : It fits a linear regression model using the closed-form solution to obtain the coefficients, beta's, as a numpy array of m+1 values (Please recall class lecture), where *m* is the number of variables kept in X_train (the first argument to the function). Please measure the cpu_time needed during the training step. cpu_time is not equal to the wall_time. So, use time.perf_counter() for an accurate measurement. Documentation on this function can be found here: https://docs.python.org/3/library/time.html . Finally, the function returns betas (i.e., the m+1 beta values) and the  cpu_time.\n",
    "* **linear_regression_closed_form_predict**: It takes a list of m+1 beta values (i.e., betas returned from the corresponding training function, and X_test (containing test samples each having *m* input variables). Now, using the provided beta values, predict each of the test samples provided, and let's name your prediction \"y_pred\". Return y_pred from the function.\n",
    "* **RMSE**: It takes two lists: y_test, y_pred, where the first list represents ground truth (i.e., actual) target values for the given samples, and the second list represents a corresponding predicted values for exactly same number of samples in y_test. Compute and return the Root Mean Squared Error (RMSE) of the prediction. \n",
    "\n",
    "* PLEASE DO NOT USE ANY LIBRARY FUNCTION THAT DOES THE LINEAR REGRESSION.\n",
    "* Now, call linear_regression_closed_form_training() function providing X_train_scaled_std, y_train obtained from Task 9, and save the returned results as betas_closed_form,cpu_time_closed_form.\n",
    "* Print betas_closed_form, cpu_time_closed_form\n",
    "* Call linear_regression_closed_form_predict() function providing betas_closed_form,X_test_scaled_std obtained in Task 9. Save the returned result as y_pred.\n",
    "* Call RMSE() function providing y_test and y_pred. Save returned result as rmse_closed_form.\n",
    "* Print rmse_closed_form."
   ]
  },
  {
   "cell_type": "code",
   "execution_count": 322,
   "metadata": {},
   "outputs": [],
   "source": [
    "import numpy as np\n",
    "def linear_regression_closed_form_training(X_train, y_train):\n",
    "    from numpy.linalg import inv\n",
    "    from time import perf_counter\n",
    "    cpu_time = 0\n",
    "    betas = []\n",
    "    cpu_time = perf_counter()\n",
    "    betas = np.dot(np.dot(inv(np.dot(X_train.T,X_train)), X_train.T), y_train)\n",
    "    cpu_time = perf_counter() - cpu_time\n",
    "    return betas,cpu_time\n",
    "\n",
    "def linear_regression_closed_form_predict(betas, X_test):\n",
    "    y_pred = []\n",
    "\n",
    "    #@TODO: Your code goes here\n",
    "    y_pred = np.dot(X_test, betas)  \n",
    "    return y_pred\n",
    "\n",
    "def RMSE(y_test, y_pred):\n",
    "    rmse = -1\n",
    "    \n",
    "    #@TODO: Your code goes here\n",
    "    rmse = np.sqrt(np.mean((y_pred - y_test)**2))\n",
    "    return rmse\n"
   ]
  },
  {
   "cell_type": "code",
   "execution_count": 323,
   "metadata": {},
   "outputs": [
    {
     "name": "stdout",
     "output_type": "stream",
     "text": [
      "Betas closed form: [ 0.70680008  0.16617532  0.03497531 -0.08183215 -0.08005997 -0.09999298\n",
      " -0.13387467 -0.06183507 -0.04284755 -0.03570436  0.1027697  -0.04312917\n",
      "  0.07433569 -0.02767829 -0.01606831 -0.01600298  0.00683227 -0.04300938\n",
      " -0.02445059 -0.01797217] \n",
      "CPU time closed form:  0.014646900002844632\n",
      "RMSE closed form:  7.326748762162339\n"
     ]
    }
   ],
   "source": [
    "betas_closed_form, cpu_time_closed_form = linear_regression_closed_form_training(X_train_scaled_std, y_train)\n",
    "\n",
    "print(\"Betas closed form:\",betas_closed_form, \"\\nCPU time closed form: \",cpu_time_closed_form)\n",
    "\n",
    "y_pred = linear_regression_closed_form_predict(betas_closed_form, X_test_scaled_std)\n",
    "\n",
    "rmse_closed_form = RMSE(y_test, y_pred)  \n",
    "\n",
    "print(\"RMSE closed form: \",rmse_closed_form)"
   ]
  },
  {
   "cell_type": "markdown",
   "metadata": {},
   "source": [
    "## TASK 11: \n",
    "Given the (X_train_scaled_std, y_train) pairs denoting input matrix and output vector respectively: complete the three function definitions and demonstrate the functionalities of each by calling them with appropriate arguments as instructed below:\n",
    "* **linear_regression_gd_batch_training** : It fits a linear regression model using the batch gradient descent algorithm to obtain the coefficients, beta's, as a numpy array of m+1 values, where *m* is the number of variables kept in X_train (the first argument to the function). Please use the alpha (i.e, the learning rate) and nEpoch (number of epochs) parameters in your implementation of the gradient descent algorithm. Please measure the cpu_time needed during the training step. cpu_time is not equal to the wall_time. So, use time.perf_counter() for an accurate measurement. Documentation on this function can be found here: https://docs.python.org/3/library/time.html . Finally, the function returns betas (i.e., the m+1 beta values) and the  cpu_time.\n",
    "* **linear_regression_gd_batch_predict**: It takes a list of m+1 beta values (i.e., betas returned from the corresponding training function, and X_test (containing test samples each having *m* input variables). Now, using the provided beta values, predict each of the test samples provided, and let's name your prediction \"y_pred\". Return y_pred from the function. \n",
    "\n",
    "* PLEASE DO NOT USE ANY LIBRARY FUNCTION THAT DOES THE LINEAR REGRESSION.\n",
    "* Now, call linear_regression_gd_batch_training() function providing X_train_scaled_std, y_train obtained from Task 9, and alpha=0.01,nEpoch=1000, and save the returned results as betas_batch,cpu_time_batch.\n",
    "* Print betas_batch, cpu_time_batch\n",
    "* Call linear_regression_gd_batch_predict() function providing betas_batch,X_test_scaled_std obtained in Task 9. Save the returned result as y_pred.\n",
    "* Call RMSE() function providing y_test and y_pred. Save returned result as rmse_batch.\n",
    "* Print rmse_batch.\n",
    "\n"
   ]
  },
  {
   "cell_type": "code",
   "execution_count": 324,
   "metadata": {},
   "outputs": [],
   "source": [
    "def linear_regression_gd_batch_training(X_train,y_train, alpha, nEpoch):\n",
    "    import random\n",
    "    random.seed(554433)\n",
    "    from time import perf_counter\n",
    "    import numpy as np\n",
    "    betas = []\n",
    "    cpu_time = 0\n",
    "    start_time = perf_counter()\n",
    "    \n",
    "    # Add bias term (1s) to X_train\n",
    "    X_bias = np.c_[np.ones((X_train.shape[0], 1)), X_train]\n",
    "    \n",
    "    m = X_train.shape[0]  # Number of samples\n",
    "    n = X_train.shape[1]  # Number of features\n",
    "    \n",
    "    # Initialize betas to zeros\n",
    "    betas = np.zeros(n+1)\n",
    "    \n",
    "    for epoch in range(nEpoch):\n",
    "        gradient = -2/m * X_bias.T.dot(y_train - X_bias.dot(betas))\n",
    "        betas = betas - alpha * gradient\n",
    "        \n",
    "    end_time = perf_counter()\n",
    "    cpu_time = end_time - start_time\n",
    "    \n",
    "    return betas, cpu_time\n",
    "\n",
    "def linear_regression_gd_batch_predict(betas, X_test):\n",
    "    # Add bias term (1s) to X_test\n",
    "    X_test_bias = np.c_[np.ones((X_test.shape[0], 1)), X_test]\n",
    "    \n",
    "    # Compute predictions\n",
    "    y_pred = X_test_bias.dot(betas)\n",
    "    \n",
    "    return y_pred\n",
    "\n",
    "\n"
   ]
  },
  {
   "cell_type": "code",
   "execution_count": 325,
   "metadata": {},
   "outputs": [
    {
     "name": "stdout",
     "output_type": "stream",
     "text": [
      "Betas (Batch Gradient Descent): [ 7.26261669  0.70678788  0.16616088  0.03498046 -0.08183006 -0.08010013\n",
      " -0.1000073  -0.13387696 -0.06175927 -0.04293868 -0.03570531  0.10226068\n",
      " -0.04312941  0.07434104 -0.02767729 -0.01590609 -0.01611156  0.00729655\n",
      " -0.04301002 -0.02444681 -0.01797133]\n",
      "CPU Time (Batch Gradient Descent): 2.8092197999940254\n",
      "RMSE (Batch Gradient Descent): 1.041684717749052\n"
     ]
    }
   ],
   "source": [
    "# Train using batch gradient descent\n",
    "betas_batch, cpu_time_batch = linear_regression_gd_batch_training(X_train_scaled_std, y_train, alpha=0.01, nEpoch=1000)\n",
    "\n",
    "# Print the results\n",
    "print(\"Betas (Batch Gradient Descent):\", betas_batch)\n",
    "print(\"CPU Time (Batch Gradient Descent):\", cpu_time_batch)\n",
    "\n",
    "# Predict using the trained betas\n",
    "y_pred = linear_regression_gd_batch_predict(betas_batch, X_test_scaled_std)\n",
    "\n",
    "# Compute RMSE using the previously defined RMSE function\n",
    "rmse_batch = RMSE(y_test, y_pred)\n",
    "\n",
    "# Print the results\n",
    "print(\"RMSE (Batch Gradient Descent):\", rmse_batch)"
   ]
  },
  {
   "cell_type": "markdown",
   "metadata": {},
   "source": [
    "## TASK 12:\n",
    "Given the (X_train_scaled_std, y_train) pairs denoting input matrix and output vector respectively: complete the three function definitions and demonstrate the functionalities of each by calling them with appropriate arguments as instructed below:\n",
    "* **linear_regression_gd_stochastic_training** : It fits a linear regression model using the stochastic gradient descent algorithm to obtain the coefficients, beta's, as a numpy array of m+1 values, where *m* is the number of variables kept in X_train (the first argument to the function). Please use the alpha (i.e, the learning rate), nEpoch (number of epochs), nIteration (number of iterations) parameters in your implementation of the gradient descent algorithm. Please measure the cpu_time needed during the training step. cpu_time is not equal to the wall_time. So, use time.perf_counter() for an accurate measurement. Documentation on this function can be found here: https://docs.python.org/3/library/time.html . Finally, the function returns betas (i.e., the m+1 beta values) and the  cpu_time.\n",
    "* **linear_regression_gd_stochastic_predict**: It takes a list of m+1 beta values (i.e., betas returned from the corresponding training function, and X_test (containing test samples each having *m* input variables). Now, using the provided beta values, predict each of the test samples provided, and let's name your prediction \"y_pred\". Return y_pred from the function. \n",
    "\n",
    "* PLEASE DO NOT USE ANY LIBRARY FUNCTION THAT DOES THE LINEAR REGRESSION.\n",
    "* Now, call linear_regression_gd_stochastic_training() function providing X_train_scaled_std, y_train obtained from Task 9, and alpha=0.01,nEpoch=50, nIteration=100 , and save the returned results as betas_stochastic,cpu_time_stochastic.\n",
    "* Print betas_stochastic, cpu_time_stochastic\n",
    "* Call linear_regression_gd_stochastic_predict() function providing betas_stochastic,X_test_scaled_std obtained in Task 9. Save the returned result as y_pred.\n",
    "* Call RMSE() function providing y_test and y_pred. Save returned result as rmse_stochastic.\n",
    "* Print rmse_stochastic.\n"
   ]
  },
  {
   "cell_type": "code",
   "execution_count": 326,
   "metadata": {},
   "outputs": [],
   "source": [
    "def linear_regression_gd_stochastic_training(X_train,y_train,alpha,nEpoch,nIteration):\n",
    "    import random\n",
    "    from time import perf_counter\n",
    "    import numpy as np\n",
    "    random.seed(554433)\n",
    "    betas = []\n",
    "    cpu_time = 0\n",
    "\n",
    "    ## YOUR CODE HERE ###\n",
    "\n",
    "    start_time = perf_counter()\n",
    "    \n",
    "    # Add bias term (1s) to X_train\n",
    "    X_bias = np.c_[np.ones((X_train.shape[0], 1)), X_train]\n",
    "    \n",
    "    m = X_train.shape[0]  # Number of samples\n",
    "    n = X_train.shape[1]  # Number of features\n",
    "    \n",
    "    # Initialize betas to zeros\n",
    "    betas = np.zeros(n+1)\n",
    "    \n",
    "    for epoch in range(nEpoch):\n",
    "        for i in range(nIteration):\n",
    "            random_index = np.random.randint(m)  # Select a random instance\n",
    "            xi = X_bias[random_index:random_index+1]\n",
    "            yi = y_train[random_index:random_index+1]\n",
    "            \n",
    "            gradient = -2 * xi.T.dot(yi - xi.dot(betas))\n",
    "            betas = betas - alpha * gradient\n",
    "        \n",
    "    end_time = perf_counter()\n",
    "    cpu_time = end_time - start_time\n",
    "    \n",
    "    return betas, cpu_time\n",
    "\n",
    "\n",
    "def linear_regression_gd_stochastic_predict(betas, X_test):\n",
    "\n",
    "    y_pred = []\n",
    "    ## YOUR CODE HERE ###\n",
    "    \n",
    "    # Add bias term (1s) to X_test\n",
    "    X_test_bias = np.c_[np.ones((X_test.shape[0], 1)), X_test]\n",
    "    \n",
    "    # Compute predictions\n",
    "    y_pred = X_test_bias.dot(betas)\n",
    "    return y_pred\n",
    "\n",
    "\n"
   ]
  },
  {
   "cell_type": "code",
   "execution_count": 327,
   "metadata": {},
   "outputs": [
    {
     "name": "stdout",
     "output_type": "stream",
     "text": [
      "Betas (Stochastic Gradient Descent): [-1.08202590e+10 -9.46421990e+09 -2.62433455e+10  3.47583102e+09\n",
      " -1.91062373e+10 -1.08958429e+10 -1.10736867e+10 -5.26660812e+09\n",
      "  1.38772224e+10 -1.00898700e+10  1.14253499e+11 -8.08755807e+09\n",
      " -4.48810309e+11 -2.13002672e+10  7.08755475e+09 -7.01094452e+08\n",
      " -3.00687516e+09 -2.93597439e+09  7.62722246e+09 -5.05224043e+08\n",
      "  6.42023550e+08]\n",
      "CPU Time (Stochastic Gradient Descent): 0.6490361000178382\n",
      "RMSE (Stochastic Gradient Descent): 452954282009.5659\n"
     ]
    }
   ],
   "source": [
    "# Train using stochastic gradient descent\n",
    "betas_stochastic, cpu_time_stochastic = linear_regression_gd_stochastic_training(X_train_scaled_std, y_train, alpha=0.01, nEpoch=50, nIteration=100)\n",
    "\n",
    "# Print the results\n",
    "print(\"Betas (Stochastic Gradient Descent):\", betas_stochastic)\n",
    "print(\"CPU Time (Stochastic Gradient Descent):\", cpu_time_stochastic)\n",
    "\n",
    "# Predict using the trained betas\n",
    "y_pred = linear_regression_gd_stochastic_predict(betas_stochastic, X_test_scaled_std)\n",
    "\n",
    "# Compute RMSE using the previously defined RMSE function\n",
    "rmse_stochastic = RMSE(y_test, y_pred)\n",
    "\n",
    "# Print the results\n",
    "print(\"RMSE (Stochastic Gradient Descent):\", rmse_stochastic)\n"
   ]
  },
  {
   "cell_type": "markdown",
   "metadata": {},
   "source": [
    "## Task 13: \n",
    "Given the (X_train_scaled_std, y_train) pairs denoting input matrix and output vector respectively: complete the three function definitions and demonstrate the functionalities of each by calling them with appropriate arguments as instructed below:\n",
    "* **linear_regression_gd_minibatch_training** : It fits a linear regression model using the minibatch gradient descent algorithm to obtain the coefficients, beta's, as a numpy array of m+1 values, where *m* is the number of variables kept in X_train (the first argument to the function). Please use the alpha (i.e, the learning rate), nEpoch (number of epochs), nIteration (number of iterations), and batch_size parameters in your implementation of the gradient descent algorithm. Please measure the cpu_time needed during the training step. cpu_time is not equal to the wall_time. So, use time.perf_counter() for an accurate measurement. Documentation on this function can be found here: https://docs.python.org/3/library/time.html . Finally, the function returns betas (i.e., the m+1 beta values) and the  cpu_time.\n",
    "* **linear_regression_gd_minibatch_predict**: It takes a list of m+1 beta values (i.e., betas returned from the corresponding training function, and X_test (containing test samples each having *m* input variables). Now, using the provided beta values, predict each of the test samples provided, and let's name your prediction \"y_pred\". Return y_pred from the function. \n",
    "\n",
    "* PLEASE DO NOT USE ANY LIBRARY FUNCTION THAT DOES THE LINEAR REGRESSION.\n",
    "* Now, call linear_regression_gd_minibatch_training() function providing X_train_scaled_std, y_train obtained from Task 9, and alpha=0.001,nEpoch=50, nIteration=1000,batch_size=32, and save the returned results as betas_minibatch,cpu_time_minibatch.\n",
    "* Print betas_minibatch, cpu_time_minibatch\n",
    "* Call linear_regression_gd_minibatch_predict() function providing betas_minibatch,X_test_scaled_std obtained in Task 9. Save the returned result as y_pred.\n",
    "* Call RMSE() function providing y_test and y_pred. Save returned result as rmse_minibatch.\n",
    "* Print rmse_minibatch."
   ]
  },
  {
   "cell_type": "code",
   "execution_count": 328,
   "metadata": {},
   "outputs": [],
   "source": [
    "def linear_regression_gd_minibatch_training(X_train,y_train,alpha,nEpoch, nIteration, batch_size):\n",
    "    import random\n",
    "    from time import perf_counter\n",
    "    import numpy as np\n",
    "    random.seed(554433)\n",
    "\n",
    "    betas = []\n",
    "    cpu_time = 0\n",
    "\n",
    "    ## YOUR CODE HERE ###\n",
    "    y_train = np.array(y_train)\n",
    "    start_time = perf_counter()\n",
    "    \n",
    "    # Add bias term (1s) to X_train\n",
    "    X_bias = np.c_[np.ones((X_train.shape[0], 1)), X_train]\n",
    "    \n",
    "    m = X_train.shape[0]  # Number of samples\n",
    "    n = X_train.shape[1]  # Number of features\n",
    "    \n",
    "    # Initialize betas to zeros\n",
    "    betas = np.zeros(n+1)\n",
    "    \n",
    "    for epoch in range(nEpoch):\n",
    "        for iteration in range(nIteration):\n",
    "            # Randomly sample a batch\n",
    "            indices = np.random.randint(m, size=batch_size)\n",
    "            X_batch = X_bias[indices]\n",
    "            y_batch = y_train[indices]\n",
    "            \n",
    "            gradient = -2/batch_size * X_batch.T.dot(y_batch - X_batch.dot(betas))\n",
    "            betas = betas - alpha * gradient\n",
    "        \n",
    "    end_time = perf_counter()\n",
    "    cpu_time = end_time - start_time\n",
    "    \n",
    "    return betas, cpu_time\n",
    "\n",
    "def linear_regression_gd_minibatch_predict(betas,X_test):\n",
    "    y_pred = []\n",
    "    ## YOUR CODE HERE ###\n",
    "    # Add bias term\n",
    "    X_test_bias = np.c_[np.ones((X_test.shape[0], 1)), X_test]\n",
    "    \n",
    "    # Compute predictions\n",
    "    y_pred = X_test_bias.dot(betas)\n",
    "    \n",
    "    return y_pred\n",
    "\n",
    "\n",
    "\n"
   ]
  },
  {
   "cell_type": "code",
   "execution_count": 329,
   "metadata": {},
   "outputs": [
    {
     "name": "stdout",
     "output_type": "stream",
     "text": [
      "Betas (MiniBatch Gradient Descent): [ 7.26738239  0.70226741  0.16539909  0.04635972 -0.08739247 -0.07948878\n",
      " -0.0918451  -0.13427774 -0.06868502 -0.04366479 -0.04068945  0.09202174\n",
      " -0.03947023  0.08466963 -0.03319088 -0.0114123  -0.01133282  0.01416845\n",
      " -0.0399717  -0.01436138 -0.02456209]\n",
      "CPU Time (MiniBatch Gradient Descent): 2.0958642999758013\n",
      "RMSE (MiniBatch Gradient Descent): 1.0421303788088288\n"
     ]
    }
   ],
   "source": [
    "# Train using minibatch gradient descent\n",
    "betas_minibatch, cpu_time_minibatch = linear_regression_gd_minibatch_training(X_train_scaled_std, y_train, alpha=0.001, nEpoch=50, nIteration=1000, batch_size=32)\n",
    "\n",
    "# Print the results\n",
    "print(\"Betas (MiniBatch Gradient Descent):\", betas_minibatch)\n",
    "print(\"CPU Time (MiniBatch Gradient Descent):\", cpu_time_minibatch)\n",
    "\n",
    "# Predict using the trained betas\n",
    "y_pred = linear_regression_gd_minibatch_predict(betas_minibatch, X_test_scaled_std)\n",
    "\n",
    "# Compute RMSE using the previously defined RMSE function\n",
    "rmse_minibatch = RMSE(y_test, y_pred)\n",
    "\n",
    "# Print the results\n",
    "print(\"RMSE (MiniBatch Gradient Descent):\", rmse_minibatch)\n",
    "\n"
   ]
  },
  {
   "cell_type": "markdown",
   "metadata": {},
   "source": [
    "## Task 14:\n",
    "Given the 4 sets of results from the 4 experiments (from Tasks 10, 11, 12, 13) with closed form solution, batch gradient descent, stochastic gradient descent and mini-batch gradient descent, print a string from the set {\"closed-form\", \"batch-GD\", \"stochastic-GD\", \"minibatch-GD\"} that demonstrated the best predictive performance in terms of RMSE.\n"
   ]
  },
  {
   "cell_type": "code",
   "execution_count": 330,
   "metadata": {},
   "outputs": [
    {
     "name": "stdout",
     "output_type": "stream",
     "text": [
      "{'closed-form': 7.326748762162339, 'batch-GD': 1.041684717749052, 'stochastic-GD': 452954282009.5659, 'minibatch-GD': 1.0421303788088288}\n",
      "The method with the best predictive performance in terms of RMSE is:  batch-GD\n"
     ]
    }
   ],
   "source": [
    "## YOUR CODE HERE ###\n",
    "\n",
    "rmse_values = {\n",
    "    \"closed-form\": rmse_closed_form,\n",
    "    \"batch-GD\": rmse_batch,\n",
    "    \"stochastic-GD\": rmse_stochastic,\n",
    "    \"minibatch-GD\": rmse_minibatch\n",
    "}\n",
    "print(rmse_values)\n",
    "# Find the method with the lowest RMSE\n",
    "best_methd = min(rmse_values, key=rmse_values.get)\n",
    "\n",
    "print(\"The method with the best predictive performance in terms of RMSE is: \",best_methd)\n",
    "\n",
    "\n"
   ]
  },
  {
   "cell_type": "markdown",
   "metadata": {},
   "source": [
    "## Task 15: \n",
    "Given the 4 sets of results from the 4 experiments (from Tasks 10, 11, 12, 13) with closed form solution, batch gradient descent, stochastic gradient descent and mini-batch gradient descent, print a string from the set {\"closed-form\", \"batch-GD\", \"stochastic-GD\", \"minibatch-GD\"} that demonstrated the least training cpu time.\n"
   ]
  },
  {
   "cell_type": "code",
   "execution_count": 331,
   "metadata": {},
   "outputs": [
    {
     "name": "stdout",
     "output_type": "stream",
     "text": [
      "The method with the best predictive performance in terms of RMSE is:  closed-form\n"
     ]
    }
   ],
   "source": [
    "## YOUR CODE HERE ###\n",
    "\n",
    "cpu_time = {\n",
    "    \"closed-form\": cpu_time_closed_form,\n",
    "    \"batch-GD\": cpu_time_batch,\n",
    "    \"stochastic-GD\": cpu_time_stochastic,\n",
    "    \"minibatch-GD\": cpu_time_minibatch\n",
    "}\n",
    "\n",
    "# Find the method with the lowest RMSE\n",
    "least_train_cpu = min(cpu_time, key=cpu_time.get)\n",
    "\n",
    "print(\"The method with the best predictive performance in terms of RMSE is: \",least_train_cpu)\n"
   ]
  },
  {
   "cell_type": "markdown",
   "metadata": {},
   "source": [
    "## Task 16: \n",
    "Given the (X_train_scaled_std, y_train) pairs denoting input matrix and output vector respectively, \n",
    "* call your implementation of Task 12: stochastic gradient descent based linear regression for each of these learning rates: {0.0001, 0.001, 0.05, 0.01, 0.1, 1.0}\n",
    "    * Please use the nIteration (number of iterations), nEpoch (number of epoch) parameters in your implementation of the gradient descent algorithm.\n",
    "\n",
    "* For each of the linear regression model, using the computed beta values, predict the test samples provided in the \"X_test_scaled_std\" argument, and let's name your prediction \"y_pred\".\n",
    "* Compute Root Mean Squared Error (RMSE) of your prediction using the RMSE() function you defined in Task 10.\n",
    "* Finally, print the learning rate that shows the best test performance, and also print as a pandas dataframe named summary with 2 columns: {learning_rate, test_RMSE} containing RMSE's of the 6 linear regression models. Also, print the best performing learning rate.\n",
    "* PLEASE DO NOT USE ANY LIBRARY FUNCTION THAT DOES THE LINEAR REGRESSION.\n"
   ]
  },
  {
   "cell_type": "code",
   "execution_count": 332,
   "metadata": {},
   "outputs": [
    {
     "name": "stderr",
     "output_type": "stream",
     "text": [
      "C:\\Users\\Madhuresh\\AppData\\Local\\Temp\\ipykernel_9476\\383192245.py:28: RuntimeWarning: overflow encountered in multiply\n",
      "  gradient = -2 * xi.T.dot(yi - xi.dot(betas))\n",
      "C:\\Users\\Madhuresh\\AppData\\Local\\Temp\\ipykernel_9476\\383192245.py:29: RuntimeWarning: invalid value encountered in subtract\n",
      "  betas = betas - alpha * gradient\n"
     ]
    },
    {
     "name": "stdout",
     "output_type": "stream",
     "text": [
      "   learning_rate      test_RMSE\n",
      "0         0.0001   1.042460e+00\n",
      "1         0.0010   1.054193e+00\n",
      "2         0.0500            NaN\n",
      "3         0.0100  5.667067e+138\n",
      "4         0.1000            NaN\n",
      "5         1.0000            NaN\n",
      "\n",
      "The best performing learning rate is:  0.0001  with RMSE:  1.0424604805785072\n"
     ]
    }
   ],
   "source": [
    "## YOUR CODE HERE ###\n",
    "\n",
    "import pandas as pd\n",
    "\n",
    "learning_rates = [0.0001, 0.001, 0.05, 0.01, 0.1, 1.0]\n",
    "summary_data = []  # To store RMSE for each learning rate\n",
    "\n",
    "# Assuming that X_test_scaled_std and y_test are defined\n",
    "\n",
    "best_rmse = float('inf')  # Set to a high value initially\n",
    "best_lr = None\n",
    "\n",
    "for lr in learning_rates:\n",
    "    # Training\n",
    "    betas, _ = linear_regression_gd_stochastic_training(X_train_scaled_std, y_train, alpha=lr, nEpoch=50, nIteration=1000)\n",
    "    \n",
    "    # Prediction\n",
    "    y_pred = linear_regression_gd_minibatch_predict(betas, X_test_scaled_std)\n",
    "    \n",
    "    # Compute RMSE\n",
    "    rmse = RMSE(y_test, y_pred)\n",
    "    summary_data.append([lr, rmse])\n",
    "    \n",
    "    # Check if this RMSE is the best so far\n",
    "    if rmse < best_rmse:\n",
    "        best_rmse = rmse\n",
    "        best_lr = lr\n",
    "\n",
    "# Create a pandas dataframe to display the results\n",
    "summary = pd.DataFrame(summary_data, columns=['learning_rate', 'test_RMSE'])\n",
    "\n",
    "print(summary)\n",
    "print(\"\\nThe best performing learning rate is: \", best_lr,\" with RMSE: \",best_rmse)\n",
    "\n",
    "\n"
   ]
  },
  {
   "cell_type": "markdown",
   "metadata": {},
   "source": [
    "## Task 17:\n",
    "* Utilizing the best trained linear regression model (so far), predict the target for each of the samples in the `judge-without-labels.csv` dataset.\n",
    "    * I believe you will not forget to do the following before calling the prediction algorithm:\n",
    "        - Save the ID values of the judge dataset into ID_judge and drop it from the judge dataframe.\n",
    "        - Perform onehot encoding using the same encoder you used to encode X_test (Task 4). \n",
    "        - keep only the same top 20 variables as you did in Task 7. \n",
    "        - scale the input variables based on the same metrics you used to scale the training dataset (Task 9). \n",
    "    * Now, call the prediction function of that model to obtain y_pred.\n",
    "    * Prepare and print as a pandas dataframe having columns: {ID, BWEIGHT}, where ID will the ID of the judge sample, and BWEIGHT is the corresponding y_pred value from your model prediction.\n",
    "* PLEASE DO NOT USE ANY LIBRARY FUNCTION THAT DOES THE LINEAR REGRESSION.\n"
   ]
  },
  {
   "cell_type": "code",
   "execution_count": 334,
   "metadata": {},
   "outputs": [
    {
     "name": "stderr",
     "output_type": "stream",
     "text": [
      "C:\\Users\\Madhuresh\\AppData\\Roaming\\Python\\Python39\\site-packages\\numpy\\lib\\function_base.py:2897: RuntimeWarning: invalid value encountered in divide\n",
      "  c /= stddev[:, None]\n",
      "C:\\Users\\Madhuresh\\AppData\\Roaming\\Python\\Python39\\site-packages\\numpy\\lib\\function_base.py:2898: RuntimeWarning: invalid value encountered in divide\n",
      "  c /= stddev[None, :]\n"
     ]
    },
    {
     "name": "stdout",
     "output_type": "stream",
     "text": [
      "        ID   BWEIGHT\n",
      "0        1  6.285521\n",
      "1        2  6.526668\n",
      "2        3  5.577962\n",
      "3        4  6.201840\n",
      "4        5  5.835240\n",
      "...    ...       ...\n",
      "1995  1996  5.098482\n",
      "1996  1997  6.405500\n",
      "1997  1998  6.853426\n",
      "1998  1999  6.413787\n",
      "1999  2000  4.975844\n",
      "\n",
      "[2000 rows x 2 columns]\n"
     ]
    }
   ],
   "source": [
    "## YOUR CODE HERE ###\n",
    "from sklearn.preprocessing import OneHotEncoder, StandardScaler\n",
    "ID_judge = judge_dataset['ID'].tolist()\n",
    "judge_dataset_noid = judge_dataset.drop('ID', axis=1)\n",
    "# Applying one ht encoding oin judge dataset\n",
    "judge_dataset_ohe = pd.concat([judge_dataset_noid.select_dtypes(exclude=['object']),\n",
    "                        pd.DataFrame(ohe.transform(judge_dataset_noid[judge_dataset_noid.columns[judge_dataset_noid.dtypes == 'object']]),\n",
    "                                     columns=ohe.get_feature_names_out(),\n",
    "                                     index=judge_dataset_noid.index)], axis=1)\n",
    "\n",
    "correlation = judge_dataset_ohe.corrwith(y_train).abs().sort_values(ascending=False)\n",
    "top20 = correlations.head(20).rename_axis('variable').reset_index(name='corr_score')\n",
    "\n",
    "judge_dataset_t20 = judge_dataset_ohe[top20['variable']]\n",
    "#scaling the input variables\n",
    "scaler = StandardScaler()\n",
    "judge_dataset_scaled_std = pd.DataFrame( scaler.fit_transform(judge_dataset_t20), columns= judge_dataset_t20.columns, index = judge_dataset_t20.index)\n",
    "# since batch-gd is the best trained model int rerns of RMSE, i am calling it \n",
    "betas_batch, cpu_time_batch = linear_regression_gd_batch_training(X_train_scaled_std, y_train, alpha=0.01, nEpoch=100)\n",
    "judge_pred = linear_regression_gd_batch_predict(betas_batch, judge_dataset_scaled_std)\n",
    "\n",
    "results = pd.DataFrame({'ID': ID_judge ,'BWEIGHT': judge_pred})\n",
    "results.to_csv('new_csv.csv', index=False)\n",
    "print(results)"
   ]
  },
  {
   "cell_type": "markdown",
   "metadata": {},
   "source": [
    "## Task 18:\n",
    "* Bring your best model and submit your solution as a csv file at [http://10.18.108.99/fa23-ml-check-PA1-judge-pred.php](http://10.18.108.99/fa23-ml-check-PA1-judge-pred.php). Please note this is hosted within the campus network. So, if you want to access it from outside campus, you need to first establish a VPN connection.\n",
    "  * Make sure your csv file should have the following format and have exactly the same number of samples as in the provided `judge-without-labels.csv` file:\n",
    "\n",
    "```\n",
    "ID,BWEIGHT\n",
    "1,10.1875\n",
    "2,6.625\n",
    "3,7.0625\n",
    "...\n",
    "...\n",
    "``` \n",
    "\n",
    "\n",
    "* Can you do better?\n",
    "  * Demonstrate your effort by pushing yourself to improve your own score or beat other submissions (if any available) until the deadline and document your scores and list what changes you made in your submitted solution.\n",
    "\n",
    "* Please report below all your RMSLE scores for each of your submission (one per line). You may enumerate your submissions by 1, 2, 3, ...\n"
   ]
  },
  {
   "cell_type": "markdown",
   "metadata": {},
   "source": [
    "## YOUR CODE HERE ###\n",
    "\n",
    "RMSLE submission score\n",
    "1 - 0.24\n",
    "2 - 0.265206895684\n",
    "3 - 0.22896446\n",
    "\n",
    "\n",
    "\n"
   ]
  }
 ],
 "metadata": {
  "kernelspec": {
   "display_name": "Python 3 (ipykernel)",
   "language": "python",
   "name": "python3"
  },
  "language_info": {
   "codemirror_mode": {
    "name": "ipython",
    "version": 3
   },
   "file_extension": ".py",
   "mimetype": "text/x-python",
   "name": "python",
   "nbconvert_exporter": "python",
   "pygments_lexer": "ipython3",
   "version": "3.9.0"
  },
  "varInspector": {
   "cols": {
    "lenName": 16,
    "lenType": 16,
    "lenVar": 40
   },
   "kernels_config": {
    "python": {
     "delete_cmd_postfix": "",
     "delete_cmd_prefix": "del ",
     "library": "var_list.py",
     "varRefreshCmd": "print(var_dic_list())"
    },
    "r": {
     "delete_cmd_postfix": ") ",
     "delete_cmd_prefix": "rm(",
     "library": "var_list.r",
     "varRefreshCmd": "cat(var_dic_list()) "
    }
   },
   "types_to_exclude": [
    "module",
    "function",
    "builtin_function_or_method",
    "instance",
    "_Feature"
   ],
   "window_display": false
  }
 },
 "nbformat": 4,
 "nbformat_minor": 2
}
